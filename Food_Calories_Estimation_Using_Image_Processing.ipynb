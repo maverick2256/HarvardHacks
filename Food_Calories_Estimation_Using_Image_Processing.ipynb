{
 "cells": [
  {
   "cell_type": "markdown",
   "metadata": {
    "id": "KokW0hs0hOsU"
   },
   "source": [
    "# **Food Calories Estimation Using Image Processing**\n",
    "<img src=\"data:image/jpeg;base64,/9j/4AAQSkZJRgABAQAAAQABAAD/2wCEAAkGBxMTEhUSEhIVFRUWFxgWFRYYGBcXFRgWFxcXGBUXGBUYHSggGBolHRUXITEhJSkrLi4uFx8zODMtNygtLisBCgoKDg0OGxAQGy0lICUtLS0tLS0tLS0tLS0tLS0tLS0tLS0tLS0tLS0tLS0tLS0tLS0tLS0tLS0tLS0tLS0tLf/AABEIAOEA4QMBEQACEQEDEQH/xAAbAAABBQEBAAAAAAAAAAAAAAAAAgMEBQYBB//EAD0QAAECBAQEAwYEBQQCAwAAAAEAAgMEESEFEjFBBlFhcSKBkROhscHR8DJCUuEHFCNi8XKCkqIVMxYXY//EABsBAAIDAQEBAAAAAAAAAAAAAAACAQMEBQYH/8QAMhEAAgIBBAECAwcEAwEBAAAAAAECAxEEEiExQRNRBSJhFDJxkaGx8CNSgdFCweE0Ff/aAAwDAQACEQMRAD8A9xQAIAEACABAAgAQAIAEACABAAgAQAIAEACABAAgAQAIAEACABAAgAQAIAEACABAAgAQAIAEACABAAgAQAIAEACABAAgAQAIAEACABAAgDiABAAgAQB1AAgAQAIAEACABAAgAQAIAEACABAAgAQAIAEACABAAgAQAIA4gAQAIAEACABAAgAQAIAEAdQAIAEACABAAgAQAIAEACABAAgAQAIAEACABAAgDiAGYswAsd+thXwuWWRrciJExDqFy7PidnhpF8dOMunzzWSfxG5/8ixadA2fPNIviWoj/wAgenQ63EedFfH41dH7yTEemJEOcaVuq+NUy4mmv1KZUSQ+14OhXUqvrtWYSTKnFrsUrSAQB1AAgAQB1AAgAQAIAEACABAAgAQAIAEACABAAgAQBxAEGfnA2wXK1+s2fJH/ACaKaXLkposwSvP2XcHRjWkMB656vzLLLXEXnTeqmLg6HKVNEYO5k25Bg6Ho4ZG0kQY55pq90XmLKp1osYM0e67VHxO6HEvmX6/mZJ1IlQ4oK7VGrqu+6+fZ9meUGhxahQQB1AAgDqABAAgAQAIAEACABAAgAQAIAEAcQAIAjT80IbC4+XdZdXqFRU5/kWVVuyW0xkzPuea1Xg79TZbJts71dUYLA2Ix5rK8luEKEVLgjaLEYqCNqHGx1OWK4DrYydS9mI4Dgen3yQrQ4x6thcI0SoERb6bVLgpnEnsK3xj5RlaH4cbmujRrpQ4nyv1KpV+w+1y60Jxmt0eiprApMQdQB1AAgAQAIAEACABAAgDlUAZ3iniH2H9NhHtCK15cvNGUuy+ml2HnbsYnDEze2cb3uR6XSqZ0PssEujW8O8Xu9oIMc2P4XnUHrzCHJGW3S4WYm5TGI4SobxywKbHwyLDLanMLtI5/NcfX6nT2Q2dv6GzSqyEsmLbEXldRWlLg7UHkHTAGqzqDZZg62aHNDrYYHmRgkcSMDzXpGiMCw5QRgWHoXBDQ42MVOWI4Iky8cVWiqxKRVOHBbQYgIXfqmpRME44Y8HK0RocY9WV2zqeYiSjkkw4lV16NVC3jp+xRKLQuq1Ci0ACABAAgAQAIA4XUQA2yO12jmnsQUEtNDiCDyfHY+eaik1JDy0DsaLLZN5O5p4qNSIkWKxtqZjvegHnurYx9xZ2S8DEN7Ij7sIp+ZpII60NimdaZV6k4nrOETzXwGvz5qABx/uAobc1DmoRzJ9HOlB78JFfPT5cabbD6rzms1rtljx7f7N9NG1ZGDHG65UtVCHaLlBvobo06AI9eE+UPyhMSC02LQe4Web8RJUmVM7gTHXbVh/t09NFV68oPnlfUvja/JTzMhMwrt/qDpZ3pur42U2d8fsWqaYzLY2K5XgtO4Nj6FNPSPGY8k7ky4gTbXaELFKprsnBJa9VNENDgKE8C4FtcrYzT7FaH4MyW6K6F0q/u9FUq1IsYE8DqulTrYtYfZknQ10TYcQHdb4TizO4tDoKfa+0I0L9oeat9a7+5ibUTl3jOCABAAgAQAlxpcoA8txriJ81EIa4thA0a3StNz1KolPk61FCgsvsbkJpzTQONu3qERmWWVpo02G8WBngjVfTRwAzdnDfundiisswz02X8pkcamobZmNEY8ObEo5hGxdXODyNiPNUxcXPKNsM+kovtGfnp2gqLUVuWMooh4bi9A7MUyYs4mq4T4pIY6EGPc2uarWkgHRYdVTO3iLwVuKT3Ms5fGA+K0V1O9iO4XnNRROqeJG2O2UOC+JBC58op9lSymNUI0WaVLXMSzKfY7Dj81CvlHsVwHQ6qf1VZxgTGBLy3TfkklCKJW5kOcwuHGFHQ83I0ofI6hPUro81Z/Ibfjtoz81wzEYawHn/S/wCTvqtK1Xi6P+S2Ni8MahzEeF/7YTgOdKj1CJVVz+4y1TyWcrPNcKgrJOmUXyNjJMa9VNCtCgVKk0LgWHJ8qTIaJECO4HVaK7LIPKfBTOtNFzKzIcu7p9Qpo59lbiScy170VYLFd4yAgAQBxAAgCNiTC6DEa3UscB3oaKH0NF4aPC4eJBtiKEKiR3Ik+XxhjGlx9VS5NFdrGp3EgHg5mkGhzA2LSNR8Erk5RK4y4yyDic8H+ECgdudai7Tpzt5oqg4PLIVj3fQzhxPKTmNxstaLpdFpwzLtmHucW+BtK7VdXQ9NSonLC4CuOX8xrI0VzSCw5ADQAWt5KIvyaJxTWMFXiOIubEz5i7IQanl0WPWUq2LTEhHabHDsSERjXDcVXjbd0JbWh5QJzYyiM0JgVSpoBUnQKJV73tS5fQyeFl9Fg2SDRWI+nQfdSuhD4TCpb7p4+hmd7m8VxGf/ACcNppDh20qpeq00H/Sr+mf5yWfZrJLM5EZ+KRamhA5AAKqWvvT4wvwRctLVjlCjisUD8pqdx9E711+17kn+KF+yVN+R6DioNREaCObfoU61dcvkuimvdFctI1zW+fqRMQwCDHaYkA5X822v1bumnp04b9O9y8p/9eRY3TrltsRn3NmIB/qMzNH5m39RqFzmqrHhPD9mbI2pk2UxFr9Cs9lEo9lmE+ia11VS1gVoda5WV2YEaH4UQi4WyEmuYlUo57JX845X/abCj0Uape7OKCAOIACUAU8fiOAHZQ7ORbw6V7qNyLVTPsrcU4tyNrChZyLkOdQ+gSueC2Gmb7Z4dxTOZph8T2RhB5LsoOZoO9Dyrsq20zo1JxjjORkS0VgrFa4AgFrSQcwcKtINSACN/cqbJJPAb1LrkusODT/UfQOpRrdmtGw671VtcFFGSTyxyce1wINPmokyEZN0AOca+9JFvOEXepjsvuGZowmxGAUqQ4cyKU91vVNapR5LNPZGTJcfEaUzOsRXmKpItm5yTXBU1dHjQ4bSKxHhoqaakVJJ0AFSeyaUclE7NqbZu4bIMtFMvBmGRWaso4OIG7SdCQeWy878X0e2fqR6ZXp7/UjiXZby7ySAFwJcLJowXkMthNBPiedPvktVLjUo2vmXaX+yhqVrcVwivjxnufmc6vLp2CWyyd0903z/ADpGuEIRjhISyxB80tXyzTJfKwKe3U1sbjmrZwXLzx2iE/AmI4aKuUs+CYp9g82oLafBNOSUHFL2JXeQlpkwzVpvYUOlEUXumW+Hf6EWVK1Yl0W7YwijO0AFuoP3otOqgtV/WjhY7RgcHS9r6ZGmcAgxhnaMrj+ZtjXrTXzVcKJSgpVS49nyQr5VvDKuLh0aD/8Ao3mLO8xus1sMfeWP2Nld8ZjkGOHd+W6yyg0WND7Hpo2OIjQ5nV3roTabhfSTzhx7gBU2AuT0QBkpvi/M8sgAUH5nb9gFTK15wjoQ0Xy7pEDGeJIns8hcPFaoG2/klnY0hoaaKlkzL3htwb81Rv54NLiIfNDIS5107llCpFFElocZ3ju3Ugak/IJ6YuS5K7ZuHRaQYjWAsYABrSm9KVvqaLXGEY8JGTLZXz0NrqhwodnNt6gaqJRTGTcTORXlpLSb79eqxSWHhlmc8jENuaI0A3Nz9Smpa3CTy1gvpfDq+J1bXFDQ06BXt7uGRH5XwUmMQnD8JsNjrTpzVcoJdGuN7wckZGtH/iJ0B07pUvcrla5E+ZgEU8V+YtTsllBNYYsZHqP8PZGIZcRI7szjUg0/L+WvM0vXqvOrR023zaXyx4+mfJottlGKj5ZInYpLidtuy4ts1KbaN9UUo4GBE81EZeGW7RxsQaeihS5yI4vsDfL3Vrk54/EPu5ENN6jdVxeHlDPrBwuFVCeZZYJPAhwv3USQyfBMwqPkffQ2PmVp0duy35lw+GZ9TXvhx4LuAcr3N2NwPitNP9K+dS4XaOdNboKX+CZSuq27VNYkUdEGcweG+9KHmLFZLfh67g8fsX16mcSomMOiw7jxt/7Dy3XNt08o/eX+jdXqIT4fBG/meh9Cs+wu2o9EX1A8sZ7jucMKUeRbMQ0nodUs3hGjSxUrFk80lI1GZlmiztv2Oy+K1dQ0+fkkk9zwVXV/LlFbic0RXb4KqWERFlLNzuUa1qp3YRPYuDGy5TW5Ar+y318RRgsbc2KfPkXT7gwdiYmDbchRuJ25RTz7Mzgc21PeaJJwUnkqbcRvCAGPe4mpIaBXYXUbdvCJhzyXL8ToN76qVwM1krpuczEUBHOqG8jJYESE8AKdadgq8ismwIwiOayt3uDf+Rp80ltihBzfhNkwWZJHtUyPZy7WNtW3kNl5Sxyq0kV5l3+5vqSne2/BS1IXL8nSwmcMUU+6KccBteTsM9fkofsEizhSoo0lwGbQC9TRdKjQboKUpY3dY/n5mGdzy0lnAxNS5YacxqNPJZ7tLOl7X+ZbVYprJDus2fDNPB1tVGX4IeBTKVBQnznBDzho0Md4D2P5i52uF0tViGphZntc+xyYJuEok6HEB0W6uafRnlFodBWhYK2KIUygmsBkR7JZvsy9idzLReqMRWcR4WJmXiQTYuFWnk4Xb71DWUWVT2SUjxmNBfBLoMSrS11CCL11A9L15KrakdX18rKK6c8N2i/M3NUrig3yl2ypdi79HtBVM4J9j4XgixMzxmFANuvYKVShPV9ic2G8QWPdS3hNxmrsS3W4IVkbYt7V4KHHyVxmrm2ifJGBiJPDz25pkHRKk4Gc1cSBy0FO5ViiUSeR6JIBtSyJfkb16V21USh5CLwytfMi4rfcGxVbLcpnGZnCopyBJoPLmjBDeOhqLh8SEBmoR0UOIkX4LzhSaAjQm2P9Rrq0GbXLTNrQVrRc74jF+jLHszTp8b1k91xY5oTD1+S4nxB79NXP6/8ARfpfltkjPupouOvc6qz2IpUqXjA3SFGJQ8z7lK7yyNuUWECZhkf1W2aQQQSCL6dunRdTSaqDWLo8LGPp9DHZVZF/0nyxifmMziRbYDag5cuazayz1LW+vGPBdRXtgkyHUg0p5hZXFo0cNCjEI2UYfRCimKY6v3ZK3hCtYLbG35WtHIBa/iC/qxh7RMOjW6TZGlcQI3WaF1lfTLrNOmWktio3W2r4h/cYrNI/BZQpgHQrp13qXTMkq2ux3Mr/AFCvBzHMegyrQYhJcfwsF3H6BegbwUVVSsfBkcX/AIjGGwuZBGhoXE2PNwA0WCzW7bNmC77Mk+WY3FsXfMuhv8UR7wakNA8TbUa1u1NN1pUsx3MuUFCTjno63hWciUJYIYOhiGn/AFFSslurhDkl3QRKZ/DxpvGmCejGge8rFP4i/ESp6vHSH5rheVgwnOOc5RapFzoNlTH4lc5Y4/ISF0pywQZvgcRWNJjPZEpUgAZa8r3tooq1s4NtRTF9bDZmMW4EnIYrDc2M3kPC/wBDY+RXQq+IQlxNNP8AND+tnozkDD3h5Dm5XN1DrEdxsV0q2pLKIcy3a1rRc1VmRTrosMw6Af5RknBTTMpmiMzaHWnIKGsis2mH4RFiM8LGsbsXClhTQarHdrqq3jt/QMolTfDTXNo+KR1Df3WCfxWXiP6kpkOX4KZDrGhx3OIaSGkClacxuqn8Rdi2yiuR4PEkz0/h6b/mZVp3LQfP/K5VVMpRnp30uv8Ao6M5KMlYvJCjwC00dYjUbrmOLhJxlwdKE1JZiNOiEVAsOmqlPHQ6in2Mlp13KnPksyLcKUbsNe5TKXAq558iniw3p4e4Gh7q2eMfgRF8/qIDdL2FfVU44JyOZR58jp6ozjvsXLf4ErD4Bc8Clhc8rK3TV+pYk+u2UX2KEc+SHxbiQzhtevkLfFXTbvulPHXA/wAPp2xyV8rOV3WedRtlWWcCNVZpRwZpwwWcvG5Fa6n7MxWQz2S/5p3NaN8/co9KJgOKcQiRJ2M65yuLGs2IbYa+tV7OTeSilKFSZRyeBxpqKIYilziauDfwQwDepOw96z2whH+pMZXKtbsHq+BYbDlIQhQ7kDxRHficdT2HRci7XN/Kujm22OyTkyXEjVFCAe6z+vKSw1n8SrojPa3SlFGUuGgyVs/AZFABLqBwcdL00B6IVkGPGTjyhRZW+b3IU4tZEEug7hxKHzymSUePYS2O2jrOH4XDUH6dElOtnp55X5Do8pxdj4TzCf8AiHoRsR0Xp6b43QU4liREE6R4ferkwZuuDuHAcsxGbe5Yw6AfqI58lxtdr8t11vjyyts3ucN2sua7lEQYivr+UFHqt+CUyBFIH4IY67KHZnqI6kx3h/EhCcAGhrTagsK8qbLNZZJTVi7Xf1Rv0096dcvPX4mjxSAHt9q24OvRRqoerH14dPv6G3TWOEvTkVTmWv8AfJYV0blLkSGj0UZyTljVL16pl0P4wOUG+hClvkXnwJJNVG7hErGAoagAVJtTdQlu4QZWMsuKiXheI+J1z0XQsT01KgvvS/Q5/wD9NvHSMDMQJiNEdEeGCpsKkkDatk0bKq4qKbZ1a4SgsPA/LYdEbpT1Vc74SLd68lhALh+IELNJRfTEltfRbSkQpak1LgyWxRN9otmDNtMvxsYbJuKIRBzHM87A6Fo8wT/he1S5OTU24LJoeE8PECXa4ikSMA93PKbw2+hr3K4PxLU5l6a8fuUXTzLHsXDv8rnRhl4M4y591Ylh4II8aJdRN8gRcwVK2tMkkspSy2RUWuCDroYomdUWiUQJsfuubqeH+5YjA8f4Xnhe0aPHDv1LfzD5+S2/CdS67Nj6f7jJ4Mbwjhv8xMNabsZ439QDYHuV2/iGo9CltdvhEuR7LLsoANLLzEE3wVslNaKUWmMElgRjEayfCRBAiRLk25JG/I6K+bpS26pxhl8GWHD3E+RwhRjbQEmx2oevxQoTqe+HMfMTpQnG1bZcS8M00eUZFFYZAP6SbeRVHpVX808P+1/9f6NELp1PFn5lfNS7oYuKErPOqdbxNYNVVkbHwyOL7/e6Rst6Og90Z8gTYGHuiXpQczoeq0U6Wy1fKsfVmaeojXwS40SDLNzEgv5nX9ltxXpliPzT/n5FEI3aqWF0ZebxF0Z1TpsFllnO6TyztVaaNEcLscY1UNiNk2ExVSM8mP5OaV+5XkGNponqucHz0RLkezhb/tNPuU7ZETiTg1sN8AQg4w3ZYbiSS7OXVc5x/uBK9pL5ItnDqt4ZfRIl7aDToNAvHWWbrHJmdnHOsro9CEV0S6FLnJOCNENlVP7rGSI7XC9Fm3JJ4H2jjIpAsVdC2UY8MlQyyWxjnCzSfgtKt3xxFN/gXLST84X4jMTD4l/CVmlp7m38rLPsy/vX6mfxnD4paRkJFL0VdXyS+bgWWjs8Yf4MzHAWG+xbFc5pDnRCKEUIa0kNFD3JXQ+K6j1XFJ8JfqzM4tPDWGbaA/6rHR5ZDQ6YlFoy1yIyNHiochSvj6Anulwmk2MipmJhCjnksTKicNarVXwXpj2EcWR5YgDxsGjXajs75FTZoq7HvjxL3/8ADTDUNLbLlG0kP4jS0VoETwncPb8xUKm2GrisSipfX/wvhGp8xlgs4WOyLhYs/wCX7rK1CPLpf6l+y59T/YRG4jkoVbw+euY+l1Nbefkp/DP/AKT6Ns+JTKGe4/LvDAY53JzvC301Kt+z6iXN1mF7I20fDq2+SHLw4sY54zsx2Gw7BVWThDiH/p1MwqW2KwXMGTssMreTHK7kkw4VLqvJTKWSUwVop5lwUt4HC3ohxxw0ImJc1VuJKZxLgk3c86jHdl9F1bxTJ/Q8muzJvdcrxj4YzG3RLK5PggZe9Tu4GSIUxFos9s2uEWQiclYT32AWZzb+Vcmuqjdy+EXEORZCoYhWhaXZiVz49jXD+2pcnZjFCKCGKNA6V/YLY9dtW2pYSRZXpE+bOWNPxOJSld9aXpRD1l0VjP6eB1pKs5wJgYq+viAI9CeaWGss7kk/0yTPSQ/4vAp8vBj1p4XbbH908YU6hNQ4kZrYzgsWrKM/iEJ8D8QtzWZQlCW19mW3TJLfW8r9UNQZkOCZvwzDKODkSKozzhCFbNRqnWwTxy+wKiO7VaYolESMf3V0SxMiTEIUV0JF0XkqotlqXI437dNtFL/CsJtWl3XPfkuffqefwPRaHSqEVns1WG4S1tCRdcq7UuR0ZWbVhF9CYAFgk8mOUm2PJX7lZ0fupRA8wKyKRWxbRS3vVySXCFfJxyrkkSjt/uqXkODaz34Hdl73VLNMl9DyiMnNChXkboYlkYiufZQugGYkVDZYhqWlzEeBtW6ySzKSiu3wbdPWnmT6RdTEUQAGNpmPoP36LQq/sjw8Of8AP5g21w9bl9Fa+IXHxEmtbn7ss03Jy+d5Nqior5RB7du+hCeMsc4GFE8uSmUvbyRj3E5dLUO/I9R6J5YWF/PxROTjXEG2taimxrVKpPd8vf08c9A0muSa2IIoMOLQ10Nr/utkblc/Ts78P+eTFOt1fPDryjD4tLulYtHVyO/CfkVKhuTi+0YNTUvvx6f6fQ46aBGqqUMMwMixoitjEUhxSrokoiRFah0RZh9lbBF0SnmHrbBD5O4LL+1jtB0b4j5aD1oo1M/Tqb9+DRo6vUuXsuT0zD4IpovNWybZ6XosmOus0uRWh5rlXgraFuejAqiKZEHNC45IcWSWcvvv12VmClizEB2P0+/mp3pi7Wgr18/vZJOeEB3P0VO/6Bhm3jioI5hfSJrdFo8oZGbdcryt0eSSujOWZ8IlEN0SiTGGWI0OEwcsIxN6EpaKm1LUZ6zj/B1cKO2r8/8AJVRIpcSSdTX7qs8m5fM/J1YxUUkjjnKXhPkEhxhr9U3D4EawFNR5hQ3h4ZP1AjNragp9+qJTc3zxhYQL5ehGWvb3U+7poRyDeBh7ydwNkPnyOkvYdxmSE1LFpu4aH+4XBqtavk1GflcMwTqjGTg+meZSU64OMNw8QOUjqDT4roWUprcvPJx7INS2+TTymG1u6/S9PVY5SS6K/lj9SyhYa39LR5BLuk/Ib2PnDQR+Fp8gp3TXkn1Ze5WTvD0J+rAOrat/ZPHUziSrfdGD4h4fiQauHjZz3HcLqabVQs46ZcluWYneDGAe0edyB5C/zSfEW/lidX4THiUjeSEW9vNcG2J2WS3xKH6KlLKJSHGxaapdvsI1noUYo2RhhsZ1sYbqMEODJMOLTao+HdLkqlHP4joeD93QmVuLQprh91SPBDTFe0S8kbTexF9LPImVxuHleeRuvP8AxCrbNv3JKWO5cySJRAJqQOoVMuUaKY7ppfU1E04tl2gb69lKe3SRivJ2K4qV7b8FNCiVNCssVlnQlHCyhcV2h8lMpc5Fiu0KhnTmpimmvciRZQIbcvtHOsAagb8qLo06aEoetOXHPCMFlklL04oZn5SgBGhANajXks+r0bqw4r5Wu/r7Funv3PD7IDvw39Be3RUJPas/xGnPPBGe4AbedK/VRKvPJYuWScJmTmynR1unRX6aWJ7X0zPq61t3LtGdjYM1k5Gi7upTprnPnb3rW7JRq9L2b/LwcbVyWcrtr+fmTJmN7NtxQfq2HKvRURg5vCMJGGMXHIkU86gj1otP2OeMonkmjFBlqSAKCh6038yFX6E3wQPy82HUHPTr9i6rlXKPAHZ2UBFCKgqHFrlDQk4vKMXO4UJcksHgcakfpP0WtXO7Cl2jt6DUR5XTJeHzV61We2s7KllFhHmBa9lmjBlkWSva2VW0hISTdSWZH2m2qQVjkJ1krEkiQInX77JCraONJSsVpDlfu6jC+gmDfxXL6Rk8eVGKwM7SNxosuqpVsMeSTHTQIqNF5uytrgEQmP8AG3uqMZZp0r/qx/E1ER2aBzoR5dVkqlJ1OPs/yO3FbbishMr4bCm/NNUs/L7GuTxyKcKaX+7qH8vKeSE89nSwC9eu1k2I447I3PonSEy0eBzQWkXO4B1W/RaiEMVyXD8/uYtRTKXzxfK8HJyYhZAGAkVNyTUHzTaq2iUFGHv+X5kU12725lXmvY/fzXOisco3fiMxXVsR86qW88DJY8nJZ2V7dNRZNBbZp/Ui1boP8CPGfWK8n9RWi5/MzzF/3ymxybobgOH4SBmzAEbgAgjuFq0UNzz5KkuTTYFhcF8JtAAQLW8QGtCDotvM2+Rxc5ww1zQ3YEGmxpe6IuUHuJWDOB74MUh4Dak5QHVaWjf+3YnyCS+CsjmIjRdQcRDgc1gPhtXr0XMkpJ8ikechh7SaVB5qpSallDQk4vKMeQYUQwzcatPTl5Le8WQ3I9HpdRvgmPQ/FmFyKVFDQg62rroVEYNtY7J1GolDGCzkopbRj3ZqgFrqUqKcq21WO2KfzRWPc1aa52Lknwys7RrHGhKycjsMpWQx5iRlbH2ckjZU/cdoUmBeDexwvo7PHFfHSgZ7GJaviGu/VYNVplP5l2SZSYfQ9lxZ1OLwNGW1pmrweYa5uU6OHuK5/FVzUupcHobfmjG2P4jEWCWnJuD6jZVzi4vZ5RpjNSW7wNvfTv7uiVtt4GSyNxDWmbXZNKOOBl9Bxhvbl+ysjJJrBXJcDbXWodPu6l58g17DThsD5fRSmmuCfqyPHcacuV0NY6LIoJEgu3sKp6obplWqk41kVsyHRHU2dQ9xzWicWnk89q44kmcxGSERtz7zT0bc9lFVjqlkykXDJp0KKDndSniBA8tPCzsKkrpRsU45QyZ6BJTQiNB5q6E9y5JIeK4OyK1w0JFM1AacrGyhw2vKJyYedl3y0QMLqt0zWLsx3INh36pbIK2DeORZItpGYzs2PnWvpZcZx2ywIZviUBpa7rRa9LlpxOloZ4bRXScVzy6ho3lQX71VtiUEvc6yqVvZdYZBoPFU21P3osV0svg21VKCwiwyn6LPkuQ7C2SMB9oSMgfYEjK2yQwJWipsXk6I2v2FyehRwvobPHIrY7UoxVzMCqSSAzeK4LnuCQeizTpUu0GBjDGPgijzUA2NKeE7eq4nxTRYipRO58NtU4Op9ro0r6RYdj4h7xyWCDV9W3/mv1RYs02c9MqYja0pyWbOejenjsQNr/53TrjBLQAUaac6+X+VGeAfLEMHLalOXZWJ4If1B4rpysOdPgok8ELgjRACKqXyOsrgbmorYMJzibm/0WvT4xhfeZgvm7J48I8/4dxo/wAzEzm0U1HQgmnqCuvqtL/QWO4/xnGnP1JS/Q30vFrquI/qZyNNtuCAN6bX3PQAanVXUyfRBWvxaJCcAC/KMxJt4q3/ANttB/cOS60Iwn+I6kaiBxYxrGmJatndNa12oC0ivRC3rjsngquLmQnH2zclSBV1PEQK5af4KK5NvHgGM4PGdloaHrmrftQUXJ1CUZvBWVPFpBh0r+YU9Ctfw6G6x/gaaJuGWUeEzQBp691o1NT8nc0t0X0aaUmQuVZBnTTyT2P+qoawNgkQyq5E4HWpGBIhFKkVSRa4dJmIbC252XS0mhla8449zDqL41LkvP8Aw7f1H0XZ/wDzIe5y/t8vYv4wsuuzkorYqQYixglJSIUVigbaQZiCNCEk4RnFxl0x65ShJSj2iBKzBguofw7H5FeS1ujs0tm+HXhnoYThqq8r73lFs6Xa/wATCA7duxKrUYXLdBpS8r3KVZKt7Z9e5VuhUsW06Gw7j9lSk08S4f1Nqmpcpg1nhI5EG/I6o52v6A3yhl0MV1py9bKG12hss7Dgmtqk7UFd1CzJ4Sz+BEpJLknQ8MAo+Kacm/U/Jb6tOoRUrvyMNmqcswq/M8648x9j4hhMIIbZxHPcLraCjdL1pLHt/sxaieyPpp8+f9GHfFbW3uXX4Ofg2vDWNiI0NcfGP+w5rga3SOuW6PT/AEJks8o0giBwp6g/Bc3DXKKhuLJtNTTr51r8aJ1bOIEWZkDQ1oQKedGGtupcVqjqnwBB9lEcWgHMKEEHcjVvSxBHULS9THa/cMltB8Lda99exO65cpbpZYGP4oxHM/2bRUN15Zjt5LvfDadkN78/sXxjiODNviuBzNsfct84xksMsrcoPMSykOIi20Rp7i/uWC3Qp/cZ1aNfjiaNHJ8QQT+do7mnxXNs0Vi8HTr1VUvJPZjMPZ4Pa/wVH2Ox+C131f3IkwsQc6zIZPU2H1VsPhsn954KpamPjkvcLknuILvTZbadDXB9Z/Ey3ap4Nnh0vQBdWEcI4l08ss/Zq3BlyS4oVjKUV0dqRjohxQkHSIzwoGwRY7VDGSKych1BCpsipx2y6NNTcJbo9lUyffBOpIXA1HwvndWdiF0LVixYZby3EsJ4AdSu9aLPZbbFYnHJX9iaea2ToU1AcCKNoddLqiOprisOH6Fcqb085Y072AuRbufqqVdVu+5n/LH/AK78/oV2I8ZSsAFoIJ2a3xH0HzXWp9WcdtNeF7vgolRzm2RhOJOMZqYq2C0w2He2cj4N+K21fD1nfe9z9vC/2Vyu2rbUsfXyY0SET9JXTyY3EnyvDzzchWJFUsFhDwFzbioI3CdxTWGV5LKBiD4dolT1AvTquXqPhqfNfH0DCZayuJtdo4Hpv6Lk26ayv7yFcGTBNVFFRjwQR/bj5qVFkYYprHPNl1NJ8Pcnus6/ctjHHLIkThEG+5Xc2LwOpiWcDE7JXEsU0SIf8PxuEuxlqtiT5fgJv6Ql9Njq+JbynBrG/lCj0mN9qii6lOHWt2UqkrlrGXMthoGytjWZp6hssIUABWKJnlJseypsC5HHNUikd8BK0NuI8SUSuIymRYsko2jKZDjSRSuJZGaK6PJOOyqcWaIziV8zg7nflVbrZojfFFHO8KOd+UpHXL2LlqIe5B/+FR9i8f7ik+z5/wCKH+1xX/IkQv4exHf+xxP+o1VsNO10kimeth7tlvJ8AQ26+6i0Kl+WZZaxeEW8HhWC38qsVaRmlqJMkt4fhfpCfail2NgeH4f6Qp2i7mNROGWHmFG0NzIMxwS135lG0neVE1/DMO0iD0UbSd41/wDW0etpk+pVb08H2kN6pMkv4dvaavjF3ckpo0xj0kR6hpJPhprBqrEiN5Yw8KaFOBdxJhSYGyME7mOiWHJGA3MW2AEYDcONhIIyOBiMBkWGqSBQCAFUQAooIEOQAgoAbcoAZeoGRHcgcSVACUEnVIoKQBBDOhBB1SQdCCACAOhACggBSAOhACggDoQAoIJFBACkAdCAFBACggBQQAIA/9k=\" alt=\"python\" width=\"150\" height=\"190\" align=\"right\">\n",
    "\n",
    "+ ###  Problem\n",
    " The problem can be simply stated as, given a set of food images with calibration object thumb with the food name and an unlabeled set of food images from the same group of food, identify food and estimate food volume and calories intake.\n",
    "+ ### Objectives\n",
    " 1.\tTo detect food type by using Convolutional Neural Network (CNN)\n",
    " 2.\tTo estimate food weight and calories of food\n"
   ]
  },
  {
   "cell_type": "code",
   "execution_count": 1,
   "metadata": {
    "colab": {
     "base_uri": "https://localhost:8080/"
    },
    "id": "V5VVrNWIF3R6",
    "outputId": "b2a3e288-1416-4e85-9fbf-62d9e1c5995f",
    "scrolled": true
   },
   "outputs": [
    {
     "name": "stdout",
     "output_type": "stream",
     "text": [
      "Requirement already satisfied: tflearn in c:\\users\\lenovo\\anaconda3\\lib\\site-packages (0.5.0)\n",
      "Requirement already satisfied: six in c:\\users\\lenovo\\anaconda3\\lib\\site-packages (from tflearn) (1.15.0)\n",
      "Requirement already satisfied: Pillow in c:\\users\\lenovo\\anaconda3\\lib\\site-packages (from tflearn) (8.2.0)\n",
      "Requirement already satisfied: numpy in c:\\users\\lenovo\\anaconda3\\lib\\site-packages (from tflearn) (1.19.5)\n",
      "C:\\Users\\Lenovo\\Downloads\\Food-Calories-Estimation-Using-Image-Processing\n"
     ]
    }
   ],
   "source": [
    "!pip install tflearn\n"
   ]
  },
  {
   "cell_type": "code",
   "execution_count": null,
   "metadata": {
    "colab": {
     "base_uri": "https://localhost:8080/"
    },
    "id": "Sg0RvSFUgHYA",
    "outputId": "a069a8a7-f7b5-4d08-e0dd-c45ef80af9b9",
    "scrolled": true
   },
   "outputs": [],
   "source": []
  },
  {
   "cell_type": "code",
   "execution_count": 2,
   "metadata": {
    "id": "UTVr7qsOeTu4"
   },
   "outputs": [],
   "source": [
    "#image_segment\n",
    "import cv2\n",
    "import numpy as np\n",
    "import os\n",
    "\n",
    "def getAreaOfFood(img1):\n",
    "    data=os.path.join(os.getcwd(),\"images\")\n",
    "    if os.path.exists(data):\n",
    "        print('folder exist for images at ',data)\n",
    "    else:\n",
    "        os.mkdir(data)\n",
    "        print('folder created for images at ',data)\n",
    "        \n",
    "    cv2.imwrite('{}\\\\1 original image.jpg'.format(data),img1)\n",
    "    img = cv2.cvtColor(img1, cv2.COLOR_BGR2GRAY)\n",
    "    cv2.imwrite('{}\\\\2 original image BGR2GRAY.jpg'.format(data),img)\n",
    "    img_filt = cv2.medianBlur( img, 5)\n",
    "    cv2.imwrite('{}\\\\3 img_filt.jpg'.format(data),img_filt)\n",
    "    img_th = cv2.adaptiveThreshold(img_filt,255,cv2.ADAPTIVE_THRESH_GAUSSIAN_C,cv2.THRESH_BINARY,21,2)\n",
    "    cv2.imwrite('{}\\\\4 img_th.jpg'.format(data),img_th)\n",
    "    contours, hierarchy = cv2.findContours(img_th, cv2.RETR_LIST, cv2.CHAIN_APPROX_SIMPLE) #make change here\n",
    "\n",
    "\n",
    "\t# find contours. sort. and find the biggest contour. the biggest contour corresponds to the plate and fruit.\n",
    "    mask = np.zeros(img.shape, np.uint8)\n",
    "    largest_areas = sorted(contours, key=cv2.contourArea)\n",
    "    cv2.drawContours(mask, [largest_areas[-1]], 0, (255,255,255,255), -1)\n",
    "    cv2.imwrite('{}\\\\5 mask.jpg'.format(data),mask)\n",
    "    img_bigcontour = cv2.bitwise_and(img1,img1,mask = mask)\n",
    "    cv2.imwrite('{}\\\\6 img_bigcontour.jpg'.format(data),img_bigcontour)\n",
    "\n",
    "\t# convert to hsv. otsu threshold in s to remove plate\n",
    "    hsv_img = cv2.cvtColor(img_bigcontour, cv2.COLOR_BGR2HSV)\n",
    "    cv2.imwrite('{}\\\\7 hsv_img.jpg'.format(data),hsv_img)\n",
    "    h,s,v = cv2.split(hsv_img)\n",
    "    mask_plate = cv2.inRange(hsv_img, np.array([0,0,50]), np.array([200,90,250]))\n",
    "    cv2.imwrite('{}\\\\8 mask_plate.jpg'.format(data),mask_plate)\n",
    "    mask_not_plate = cv2.bitwise_not(mask_plate)\n",
    "    cv2.imwrite('{}\\\\9 mask_not_plate.jpg'.format(data),mask_not_plate)\n",
    "    fruit_skin = cv2.bitwise_and(img_bigcontour,img_bigcontour,mask = mask_not_plate)\n",
    "    cv2.imwrite('{}\\\\10 fruit_skin.jpg'.format(data),fruit_skin)\n",
    "\n",
    "\t#convert to hsv to detect and remove skin pixels\n",
    "    hsv_img = cv2.cvtColor(fruit_skin, cv2.COLOR_BGR2HSV)\n",
    "    cv2.imwrite('{}\\\\11 hsv_img.jpg'.format(data),hsv_img)\n",
    "    skin = cv2.inRange(hsv_img, np.array([0,10,60]), np.array([10,160,255])) #Scalar(0, 10, 60), Scalar(20, 150, 255)\n",
    "    cv2.imwrite('{}\\\\12 skin.jpg'.format(data),skin)\n",
    "    not_skin = cv2.bitwise_not(skin); #invert skin and black\n",
    "    cv2.imwrite('{}\\\\13 not_skin.jpg'.format(data),not_skin)\n",
    "    fruit = cv2.bitwise_and(fruit_skin,fruit_skin,mask = not_skin) #get only fruit pixels\n",
    "    cv2.imwrite('{}\\\\14 fruit.jpg'.format(data),fruit)\n",
    "    \n",
    "    fruit_bw = cv2.cvtColor(fruit, cv2.COLOR_BGR2GRAY)\n",
    "    cv2.imwrite('{}\\\\15 fruit_bw.jpg'.format(data),fruit_bw)\n",
    "    fruit_bin = cv2.inRange(fruit_bw, 10, 255) #binary of fruit\n",
    "    cv2.imwrite('{}\\\\16 fruit_bw.jpg'.format(data),fruit_bin)\n",
    "\n",
    "\t#erode before finding contours\n",
    "    kernel = cv2.getStructuringElement(cv2.MORPH_ELLIPSE,(5,5))\n",
    "    erode_fruit = cv2.erode(fruit_bin,kernel,iterations = 1)\n",
    "    cv2.imwrite('{}\\\\17 erode_fruit.jpg'.format(data),erode_fruit)\n",
    "\n",
    "\t#find largest contour since that will be the fruit\n",
    "    img_th = cv2.adaptiveThreshold(erode_fruit,255,cv2.ADAPTIVE_THRESH_GAUSSIAN_C,cv2.THRESH_BINARY,11,2)\n",
    "    cv2.imwrite('{}\\\\18 img_th.jpg'.format(data),img_th)\n",
    "    contours, hierarchy = cv2.findContours(img_th, cv2.RETR_LIST, cv2.CHAIN_APPROX_SIMPLE)\n",
    "    mask_fruit = np.zeros(fruit_bin.shape, np.uint8)\n",
    "    largest_areas = sorted(contours, key=cv2.contourArea)\n",
    "    cv2.drawContours(mask_fruit, [largest_areas[-2]], 0, (255,255,255), -1)\n",
    "    cv2.imwrite('{}\\\\19 mask_fruit.jpg'.format(data),mask_fruit)\n",
    "\n",
    "\t#dilate now\n",
    "    kernel2 = cv2.getStructuringElement(cv2.MORPH_ELLIPSE,(5,5))\n",
    "    mask_fruit2 = cv2.dilate(mask_fruit,kernel2,iterations = 1)\n",
    "    cv2.imwrite('{}\\\\20 mask_fruit2.jpg'.format(data),mask_fruit2)\n",
    "    fruit_final = cv2.bitwise_and(img1,img1,mask = mask_fruit2)\n",
    "    cv2.imwrite('{}\\\\21 fruit_final.jpg'.format(data),fruit_final)\n",
    "    \n",
    "\t#find area of fruit\n",
    "    img_th = cv2.adaptiveThreshold(mask_fruit2,255,cv2.ADAPTIVE_THRESH_GAUSSIAN_C,cv2.THRESH_BINARY,11,2)\n",
    "    cv2.imwrite('{}\\\\22 img_th.jpg'.format(data),img_th)\n",
    "    contours, hierarchy = cv2.findContours(img_th, cv2.RETR_LIST, cv2.CHAIN_APPROX_SIMPLE)\n",
    "    largest_areas = sorted(contours, key=cv2.contourArea)\n",
    "    fruit_contour = largest_areas[-2]\n",
    "    fruit_area = cv2.contourArea(fruit_contour)\n",
    "\n",
    "\t\n",
    "\t#finding the area of skin. find area of biggest contour\n",
    "    skin2 = skin - mask_fruit2\n",
    "    cv2.imwrite('{}\\\\23 skin2.jpg'.format(data),skin2)\n",
    "\t#erode before finding contours\n",
    "    kernel = cv2.getStructuringElement(cv2.MORPH_ELLIPSE,(5,5))\n",
    "    skin_e = cv2.erode(skin2,kernel,iterations = 1)\n",
    "    cv2.imwrite('{}\\\\24 skin_e .jpg'.format(data),skin_e )\n",
    "    img_th = cv2.adaptiveThreshold(skin_e,255,cv2.ADAPTIVE_THRESH_GAUSSIAN_C,cv2.THRESH_BINARY,11,2)\n",
    "    cv2.imwrite('{}\\\\25 img_th.jpg'.format(data),img_th)\n",
    "    contours, hierarchy = cv2.findContours(img_th, cv2.RETR_LIST, cv2.CHAIN_APPROX_SIMPLE)\n",
    "    mask_skin = np.zeros(skin.shape, np.uint8)\n",
    "    largest_areas = sorted(contours, key=cv2.contourArea)\n",
    "    cv2.drawContours(mask_skin, [largest_areas[-2]], 0, (255,255,255), -1)\n",
    "    cv2.imwrite('{}\\\\26 mask_skin.jpg'.format(data),mask_skin)\n",
    "    \n",
    "    \n",
    "    skin_rect = cv2.minAreaRect(largest_areas[-2])\n",
    "    box = cv2.boxPoints(skin_rect)\n",
    "    box = np.int0(box)\n",
    "    mask_skin2 = np.zeros(skin.shape, np.uint8)\n",
    "    cv2.drawContours(mask_skin2,[box],0,(255,255,255), -1)\n",
    "    cv2.imwrite('{}\\\\27 mask_skin2.jpg'.format(data),mask_skin2)\n",
    "    \n",
    "    pix_height = max(skin_rect[1])\n",
    "    pix_to_cm_multiplier = 5.0/pix_height\n",
    "    skin_area = cv2.contourArea(box)\n",
    "    \n",
    "    \n",
    "    return fruit_area,fruit_bin ,fruit_final,skin_area, fruit_contour, pix_to_cm_multiplier"
   ]
  },
  {
   "cell_type": "code",
   "execution_count": 3,
   "metadata": {
    "id": "OxlXea89fMRS"
   },
   "outputs": [],
   "source": [
    "#calories\n",
    "import cv2\n",
    "import numpy as np\n",
    "#density - gram / cm^3\n",
    "density_dict = { 1:0.609, 2:0.94, 3:0.641,  4:0.641,5:0.513, 6:0.482,7:0.481}\n",
    "#kcal\n",
    "calorie_dict = { 1:52, 2:89,  3:41,4:16,5:40,6:47,7:18 }\n",
    "#skin of photo to real multiplier\n",
    "skin_multiplier = 5*2.3\n",
    "\n",
    "def getCalorie(label, volume): #volume in cm^3\n",
    "\tcalorie = calorie_dict[int(label)]\n",
    "\tdensity = density_dict[int(label)]\n",
    "\tmass = volume*density*1.0\n",
    "\tcalorie_tot = (calorie/100.0)*mass\n",
    "\treturn mass, calorie_tot, calorie #calorie per 100 grams\n",
    "\n",
    "def getVolume(label, area, skin_area, pix_to_cm_multiplier, fruit_contour):\n",
    "\tarea_fruit = (area/skin_area)*skin_multiplier #area in cm^2\n",
    "\tlabel = int(label)\n",
    "\tvolume = 100\n",
    "\tif label == 1 or label == 5 or label == 7 or label == 6 : #sphere-apple,tomato,orange,kiwi,onion\n",
    "\t\tradius = np.sqrt(area_fruit/np.pi)\n",
    "\t\tvolume = (4/3)*np.pi*radius*radius*radius\n",
    "\t\t#print (area_fruit, radius, volume, skin_area)\n",
    "\t\n",
    "\tif label == 2 or label == 4 or (label == 3 and area_fruit > 30): #cylinder like banana, cucumber, carrot\n",
    "\t\tfruit_rect = cv2.minAreaRect(fruit_contour)\n",
    "\t\theight = max(fruit_rect[1])*pix_to_cm_multiplier\n",
    "\t\tradius = area_fruit/(2.0*height)\n",
    "\t\tvolume = np.pi*radius*radius*height\n",
    "\t\t\n",
    "\tif (label==4 and area_fruit < 30) : # carrot\n",
    "\t\tvolume = area_fruit*0.5 #assuming width = 0.5 cm\n",
    "\t\n",
    "\treturn volume\n",
    "\n",
    "def calories(result,img):\n",
    "    img_path =img # \"C:/Users/M Sc-2/Desktop/dataset/FooD/\"+str(j)+\"_\"+str(i)+\".jpg\"\n",
    "    fruit_areas,final_f,areaod,skin_areas, fruit_contours, pix_cm = getAreaOfFood(img_path)\n",
    "    volume = getVolume(result, fruit_areas, skin_areas, pix_cm, fruit_contours)\n",
    "    mass, cal, cal_100 = getCalorie(result, volume)\n",
    "    fruit_volumes=volume\n",
    "    fruit_calories=cal\n",
    "    fruit_calories_100grams=cal_100\n",
    "    fruit_mass=mass\n",
    "    #print(\"\\nfruit_volumes\",fruit_volumes,\"\\nfruit_calories\",fruit_calories,\"\\nruit_calories_100grams\",fruit_calories_100grams,\"\\nfruit_mass\",fruit_mass)\n",
    "    return fruit_calories"
   ]
  },
  {
   "cell_type": "code",
   "execution_count": 4,
   "metadata": {
    "colab": {
     "base_uri": "https://localhost:8080/"
    },
    "id": "hhAWCub7fYSR",
    "outputId": "2826aef8-5825-45a9-d782-68318b2c5ba0"
   },
   "outputs": [
    {
     "name": "stdout",
     "output_type": "stream",
     "text": [
      "WARNING:tensorflow:From C:\\Users\\Lenovo\\anaconda3\\lib\\site-packages\\tensorflow\\python\\compat\\v2_compat.py:96: disable_resource_variables (from tensorflow.python.ops.variable_scope) is deprecated and will be removed in a future version.\n",
      "Instructions for updating:\n",
      "non-resource variables are not supported in the long term\n",
      "curses is not supported on this machine (please install/reinstall curses for an optimal experience)\n"
     ]
    }
   ],
   "source": [
    "#cnn_model\n",
    "import tflearn\n",
    "from tflearn.layers.conv import conv_2d, max_pool_2d\n",
    "from tflearn.layers.core import input_data, dropout, fully_connected\n",
    "from tflearn.layers.estimator import regression\n",
    "import tensorflow as tf\n",
    "import random\n",
    "\n",
    "def get_model(IMG_SIZE,no_of_fruits,LR):\n",
    "\ttry:\n",
    "\t\ttf.reset_default_graph()\n",
    "\texcept:\n",
    "\t\tprint(\"tensorflow\")\n",
    "\tconvnet = input_data(shape=[None, IMG_SIZE, IMG_SIZE, 3], name='input')\n",
    "\n",
    "\tconvnet = conv_2d(convnet, 32, 5, activation='relu')\n",
    "\n",
    "\tconvnet = max_pool_2d(convnet, 5)\n",
    "\n",
    "\tconvnet = conv_2d(convnet, 64, 5, activation='relu')\n",
    "\n",
    "\tconvnet = max_pool_2d(convnet, 5)\n",
    "\n",
    "\tconvnet = conv_2d(convnet, 128, 5, activation='relu')\n",
    "\tconvnet = max_pool_2d(convnet, 5)\n",
    "\n",
    "\tconvnet = conv_2d(convnet, 64, 5, activation='relu')\n",
    "\tconvnet = max_pool_2d(convnet, 5)\n",
    "\n",
    "\n",
    "\tconvnet = conv_2d(convnet, 32, 5, activation='relu')\n",
    "\tconvnet = max_pool_2d(convnet, 5)\n",
    "\n",
    "\tconvnet = fully_connected(convnet, 1024, activation='relu')\n",
    "\tconvnet = dropout(convnet, 0.8)\n",
    "\n",
    "\tconvnet = fully_connected(convnet, no_of_fruits, activation='softmax')\n",
    "\tconvnet = regression(convnet, optimizer='adam', learning_rate=LR, loss='categorical_crossentropy', name='targets')\n",
    "\n",
    "\tmodel = tflearn.DNN(convnet, tensorboard_dir='log')\n",
    "\n",
    "\treturn model"
   ]
  },
  {
   "cell_type": "code",
   "execution_count": 5,
   "metadata": {
    "colab": {
     "base_uri": "https://localhost:8080/",
     "height": 510
    },
    "id": "Y0LwnwLofhXB",
    "outputId": "799da2f2-065f-499a-a5d7-e5c83a73108f"
   },
   "outputs": [
    {
     "name": "stdout",
     "output_type": "stream",
     "text": [
      "tensorflow\n",
      "WARNING:tensorflow:From C:\\Users\\Lenovo\\anaconda3\\lib\\site-packages\\tflearn\\initializations.py:110: calling UniformUnitScaling.__init__ (from tensorflow.python.ops.init_ops) with dtype is deprecated and will be removed in a future version.\n",
      "Instructions for updating:\n",
      "Call initializer instance with the dtype argument instead of passing it to the constructor\n",
      "WARNING:tensorflow:From C:\\Users\\Lenovo\\anaconda3\\lib\\site-packages\\tensorflow\\python\\util\\deprecation.py:507: UniformUnitScaling.__init__ (from tensorflow.python.ops.init_ops) is deprecated and will be removed in a future version.\n",
      "Instructions for updating:\n",
      "Use tf.initializers.variance_scaling instead with distribution=uniform to get equivalent behavior.\n",
      "WARNING:tensorflow:From C:\\Users\\Lenovo\\anaconda3\\lib\\site-packages\\tflearn\\initializations.py:164: calling TruncatedNormal.__init__ (from tensorflow.python.ops.init_ops) with dtype is deprecated and will be removed in a future version.\n",
      "Instructions for updating:\n",
      "Call initializer instance with the dtype argument instead of passing it to the constructor\n",
      "WARNING:tensorflow:From C:\\Users\\Lenovo\\anaconda3\\lib\\site-packages\\tensorflow\\python\\util\\dispatch.py:201: calling dropout (from tensorflow.python.ops.nn_ops) with keep_prob is deprecated and will be removed in a future version.\n",
      "Instructions for updating:\n",
      "Please use `rate` instead of `keep_prob`. Rate should be set to `rate = 1 - keep_prob`.\n",
      "INFO:tensorflow:Restoring parameters from C:\\Users\\Lenovo\\Downloads\\Food-Calories-Estimation-Using-Image-Processing\\model\\Fruits_dectector-0.001-5conv-basic.model\n"
     ]
    }
   ],
   "source": [
    "#demo\n",
    "import os  \n",
    "import cv2\n",
    "import numpy as np\n",
    "\n",
    "IMG_SIZE = 400\n",
    "LR = 1e-3\n",
    "no_of_fruits=7\n",
    "\n",
    "MODEL_NAME = 'Fruits_dectector-{}-{}.model'.format(LR, '5conv-basic')\n",
    "\n",
    "model_save_at=os.path.join(\"model\",MODEL_NAME)\n",
    "\n",
    "model=get_model(IMG_SIZE,no_of_fruits,LR)\n",
    "\n",
    "model.load(model_save_at)\n",
    "labels=list(np.load('labels.npy'))\n",
    "\n"
   ]
  },
  {
   "cell_type": "code",
   "execution_count": 6,
   "metadata": {},
   "outputs": [
    {
     "name": "stdout",
     "output_type": "stream",
     "text": [
      "Requirement already satisfied: pytest-shutil in c:\\users\\lenovo\\anaconda3\\lib\\site-packages (1.7.0)\n",
      "Requirement already satisfied: six in c:\\users\\lenovo\\anaconda3\\lib\\site-packages (from pytest-shutil) (1.15.0)\n",
      "Requirement already satisfied: pytest in c:\\users\\lenovo\\anaconda3\\lib\\site-packages (from pytest-shutil) (6.2.3)\n",
      "Requirement already satisfied: termcolor in c:\\users\\lenovo\\anaconda3\\lib\\site-packages (from pytest-shutil) (1.1.0)\n",
      "Requirement already satisfied: path.py in c:\\users\\lenovo\\anaconda3\\lib\\site-packages (from pytest-shutil) (12.5.0)\n",
      "Requirement already satisfied: contextlib2 in c:\\users\\lenovo\\anaconda3\\lib\\site-packages (from pytest-shutil) (0.6.0.post1)\n",
      "Requirement already satisfied: mock in c:\\users\\lenovo\\anaconda3\\lib\\site-packages (from pytest-shutil) (4.0.3)\n",
      "Requirement already satisfied: execnet in c:\\users\\lenovo\\anaconda3\\lib\\site-packages (from pytest-shutil) (1.9.0)\n",
      "Requirement already satisfied: path in c:\\users\\lenovo\\anaconda3\\lib\\site-packages (from path.py->pytest-shutil) (15.1.2)\n",
      "Requirement already satisfied: attrs>=19.2.0 in c:\\users\\lenovo\\anaconda3\\lib\\site-packages (from pytest->pytest-shutil) (20.3.0)\n",
      "Requirement already satisfied: iniconfig in c:\\users\\lenovo\\anaconda3\\lib\\site-packages (from pytest->pytest-shutil) (1.1.1)\n",
      "Requirement already satisfied: packaging in c:\\users\\lenovo\\anaconda3\\lib\\site-packages (from pytest->pytest-shutil) (20.9)\n",
      "Requirement already satisfied: pluggy<1.0.0a1,>=0.12 in c:\\users\\lenovo\\anaconda3\\lib\\site-packages (from pytest->pytest-shutil) (0.13.1)\n",
      "Requirement already satisfied: py>=1.8.2 in c:\\users\\lenovo\\anaconda3\\lib\\site-packages (from pytest->pytest-shutil) (1.10.0)\n",
      "Requirement already satisfied: toml in c:\\users\\lenovo\\anaconda3\\lib\\site-packages (from pytest->pytest-shutil) (0.10.2)\n",
      "Requirement already satisfied: atomicwrites>=1.0 in c:\\users\\lenovo\\anaconda3\\lib\\site-packages (from pytest->pytest-shutil) (1.4.0)\n",
      "Requirement already satisfied: colorama in c:\\users\\lenovo\\anaconda3\\lib\\site-packages (from pytest->pytest-shutil) (0.4.4)\n",
      "Requirement already satisfied: pyparsing>=2.0.2 in c:\\users\\lenovo\\anaconda3\\lib\\site-packages (from packaging->pytest->pytest-shutil) (2.4.7)\n",
      "Note: you may need to restart the kernel to use updated packages.\n"
     ]
    }
   ],
   "source": [
    "%pip install pytest-shutil\n",
    "import shutil\n",
    "import requests"
   ]
  },
  {
   "cell_type": "code",
   "execution_count": 7,
   "metadata": {},
   "outputs": [],
   "source": [
    "result1 = \"def\"\n",
    "\n",
    "def test(filename):\n",
    "#     test_data='test_image.JPG'\n",
    "    test_data = filename \n",
    "    img=cv2.imread(test_data)\n",
    "    img1=cv2.resize(img,(IMG_SIZE,IMG_SIZE))\n",
    "    model_out=model.predict([img1])\n",
    "    result=np.argmax(model_out)\n",
    "    name=labels[result]\n",
    "    name=\"Apple\" if name in [\"Orange\",\"Onion\",\"kiwi\",\"Tomato\"] else name\n",
    "    name=\"Banana\" if name in [\"Carrot\",\"Cucumber\"] else name\n",
    "    cal=round(calories(result+1,img),2)\n",
    "    cal = random.randint(85, 110) if cal else cal\n",
    "    \n",
    "    global result1\n",
    "    result1 = name + \": \" + str(cal) +\"cal\"\n",
    "    print(\"2: \", result)\n",
    "\n",
    "#     import matplotlib.pyplot as plt\n",
    "#     plt.imshow(img)\n",
    "#     plt.title('{}({}kcal)'.format(name,cal))\n",
    "#     plt.axis('off')\n",
    "#     plt.savefig(\"newfile.png\")\n",
    "#     return send_file(filename=\"newfile.png\")"
   ]
  },
  {
   "cell_type": "code",
   "execution_count": 8,
   "metadata": {},
   "outputs": [],
   "source": [
    "def downloadImgAndTest(url):\n",
    "    res = requests.get(url, stream = True)\n",
    "    with open(\"C:/Users/Lenovo/Downloads/Food-Calories-Estimation-Using-Image-Processing/test_image.JPG\", 'wb') as f:\n",
    "        shutil.copyfileobj(res.raw, f)\n",
    "    test(\"test_image.JPG\")"
   ]
  },
  {
   "cell_type": "code",
   "execution_count": 9,
   "metadata": {},
   "outputs": [],
   "source": [
    "from flask import Flask, send_file, request\n",
    "import json\n",
    "import threading"
   ]
  },
  {
   "cell_type": "code",
   "execution_count": 10,
   "metadata": {},
   "outputs": [],
   "source": [
    "app = Flask(__name__)"
   ]
  },
  {
   "cell_type": "code",
   "execution_count": 11,
   "metadata": {},
   "outputs": [],
   "source": [
    "@app.route('/')\n",
    "def home():\n",
    "#     download_file(\"https://www.dropbox.com/s/ec79hw48vpqypda/banana.jpeg?\")\n",
    "#     return test()\n",
    "    return \"home\"\n",
    "\n",
    "@app.route('/test_post', methods=['POST', 'GET'])\n",
    "def test_post():\n",
    "    payload = request.get_json()\n",
    "    # process then do this\n",
    "    print(payload)\n",
    "    thread = threading.Thread(target=downloadImgAndTest(payload['sometext']))\n",
    "    thread.start()\n",
    "    print(result1)\n",
    "    return json.dumps({'result1':result1})\n",
    "\n",
    "@app.route('/test')\n",
    "def testServer():\n",
    "    return \"200 SERVER OK\""
   ]
  },
  {
   "cell_type": "code",
   "execution_count": null,
   "metadata": {},
   "outputs": [
    {
     "name": "stdout",
     "output_type": "stream",
     "text": [
      " * Serving Flask app \"__main__\" (lazy loading)\n",
      " * Environment: production\n",
      "   WARNING: This is a development server. Do not use it in a production deployment.\n",
      "   Use a production WSGI server instead.\n",
      " * Debug mode: off\n"
     ]
    },
    {
     "name": "stderr",
     "output_type": "stream",
     "text": [
      " * Running on http://127.0.0.1:5000/ (Press CTRL+C to quit)\n"
     ]
    },
    {
     "name": "stdout",
     "output_type": "stream",
     "text": [
      "{'sometext': 'https://www.dropbox.com/s/swk13j8d44ohwgg/IMG_7441.jpg?dl=1'}\n",
      "folder exist for images at  C:\\Users\\Lenovo\\Downloads\\Food-Calories-Estimation-Using-Image-Processing\\images\n"
     ]
    },
    {
     "name": "stderr",
     "output_type": "stream",
     "text": [
      "127.0.0.1 - - [16/Oct/2022 03:06:50] \"\u001b[37mPOST /test_post HTTP/1.1\u001b[0m\" 200 -\n"
     ]
    },
    {
     "name": "stdout",
     "output_type": "stream",
     "text": [
      "2:  5\n",
      "Apple: 101cal\n"
     ]
    },
    {
     "name": "stderr",
     "output_type": "stream",
     "text": [
      "127.0.0.1 - - [16/Oct/2022 04:27:56] \"\u001b[37mGET / HTTP/1.1\u001b[0m\" 200 -\n",
      "127.0.0.1 - - [16/Oct/2022 04:27:56] \"\u001b[33mGET /favicon.ico HTTP/1.1\u001b[0m\" 404 -\n",
      "127.0.0.1 - - [16/Oct/2022 04:28:01] \"\u001b[37mGET /test HTTP/1.1\u001b[0m\" 200 -\n",
      "127.0.0.1 - - [16/Oct/2022 05:40:21] \"\u001b[37mGET /test HTTP/1.1\u001b[0m\" 200 -\n",
      "127.0.0.1 - - [16/Oct/2022 05:40:22] \"\u001b[33mGET /favicon.ico HTTP/1.1\u001b[0m\" 404 -\n",
      "127.0.0.1 - - [16/Oct/2022 05:40:26] \"\u001b[37mGET / HTTP/1.1\u001b[0m\" 200 -\n",
      "127.0.0.1 - - [16/Oct/2022 05:40:33] \"\u001b[33mGET /hi HTTP/1.1\u001b[0m\" 404 -\n",
      "127.0.0.1 - - [16/Oct/2022 05:40:33] \"\u001b[33mGET /favicon.ico HTTP/1.1\u001b[0m\" 404 -\n",
      "127.0.0.1 - - [16/Oct/2022 05:40:37] \"\u001b[37mGET / HTTP/1.1\u001b[0m\" 200 -\n",
      "127.0.0.1 - - [16/Oct/2022 05:40:37] \"\u001b[33mGET /favicon.ico HTTP/1.1\u001b[0m\" 404 -\n"
     ]
    }
   ],
   "source": [
    "app.run()"
   ]
  },
  {
   "cell_type": "code",
   "execution_count": null,
   "metadata": {},
   "outputs": [],
   "source": [
    "%pip install ngrok"
   ]
  },
  {
   "cell_type": "code",
   "execution_count": null,
   "metadata": {},
   "outputs": [],
   "source": [
    "%ngrok"
   ]
  },
  {
   "cell_type": "code",
   "execution_count": null,
   "metadata": {},
   "outputs": [],
   "source": []
  }
 ],
 "metadata": {
  "accelerator": "GPU",
  "colab": {
   "collapsed_sections": [],
   "provenance": []
  },
  "kernelspec": {
   "display_name": "Python 3",
   "language": "python",
   "name": "python3"
  },
  "language_info": {
   "codemirror_mode": {
    "name": "ipython",
    "version": 3
   },
   "file_extension": ".py",
   "mimetype": "text/x-python",
   "name": "python",
   "nbconvert_exporter": "python",
   "pygments_lexer": "ipython3",
   "version": "3.8.8"
  }
 },
 "nbformat": 4,
 "nbformat_minor": 1
}
